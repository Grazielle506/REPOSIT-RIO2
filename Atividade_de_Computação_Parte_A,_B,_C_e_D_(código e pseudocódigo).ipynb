{
  "cells": [
    {
      "cell_type": "markdown",
      "metadata": {
        "id": "view-in-github",
        "colab_type": "text"
      },
      "source": [
        "<a href=\"https://colab.research.google.com/github/Grazielle506/REPOSIT-RIO2/blob/main/Atividade_de_Computa%C3%A7%C3%A3o_Parte_A%2C_B%2C_C_e_D_(c%C3%B3digo%20e%20pseudoc%C3%B3digo).ipynb\" target=\"_parent\"><img src=\"https://colab.research.google.com/assets/colab-badge.svg\" alt=\"Open In Colab\"/></a>"
      ]
    },
    {
      "cell_type": "markdown",
      "source": [
        "## **Atividade Prática - Programação com Python**"
      ],
      "metadata": {
        "id": "TWxalbrTP4M_"
      }
    },
    {
      "cell_type": "markdown",
      "source": [
        "Nome: Grazielle Pereira de Santana; Matrícula: 072420043\n",
        "\n",
        "Nome: Jessica Ribeiro Nunes; Matrícula: 072420039"
      ],
      "metadata": {
        "id": "OfaCwpgkOxK4"
      }
    },
    {
      "cell_type": "markdown",
      "source": [
        "###**Parte - A**"
      ],
      "metadata": {
        "id": "KA0Qc4KcRYm4"
      }
    },
    {
      "cell_type": "markdown",
      "source": [
        "**Pseodocódigo**"
      ],
      "metadata": {
        "id": "EUH7ap-Vn8yP"
      }
    },
    {
      "cell_type": "code",
      "source": [
        "INICIO\n",
        "      ESCREVA \"Olá, mundo!\"\n",
        "FIM"
      ],
      "metadata": {
        "id": "-FBxrfh4n3Nz"
      },
      "execution_count": null,
      "outputs": []
    },
    {
      "cell_type": "markdown",
      "source": [
        "**Código Python com comentários**"
      ],
      "metadata": {
        "id": "OeSyA3YbSDtY"
      }
    },
    {
      "cell_type": "code",
      "source": [
        "print('alô, mundo!') # Exibe a mensagem \"alô, mundo!\" na tela, uma frase tradicional em programação para iniciar o aprendizado."
      ],
      "metadata": {
        "id": "R-sZk_PpwjTV",
        "outputId": "f04f830d-bf61-469d-d39b-b964509b2722",
        "colab": {
          "base_uri": "https://localhost:8080/"
        }
      },
      "execution_count": null,
      "outputs": [
        {
          "output_type": "stream",
          "name": "stdout",
          "text": [
            "alô, mundo!\n"
          ]
        }
      ]
    },
    {
      "cell_type": "markdown",
      "source": [
        "###**Parte - B**"
      ],
      "metadata": {
        "id": "ZcKgp7rRRZ3_"
      }
    },
    {
      "cell_type": "markdown",
      "source": [
        "**Código Python com comentários 1**\n"
      ],
      "metadata": {
        "id": "8068RD5ISc7Z"
      }
    },
    {
      "cell_type": "code",
      "source": [
        "matr = input('digite sua matricula') #Solicita ao usuário que digite sua matrícula e armazena o valor na variável 'matr'.\n",
        "nome = input('digite seu nome') #Solicita ao usuário que digite seu nome e armazena o valor na variável 'nome'.\n",
        "print('alô, ' + nome + ',' + matr) #Exibe uma mensagem de saudação com o nome e a matrícula do usuário.\n",
        "#OBS: O código possui um erro: a variável 'name' deveria ser 'nome', pois o nome correto da variável é 'nome'."
      ],
      "metadata": {
        "id": "ja51tA7RwzGG",
        "colab": {
          "base_uri": "https://localhost:8080/"
        },
        "outputId": "3e48e254-1332-4ff9-c1cb-4c2e0b7283ac"
      },
      "execution_count": null,
      "outputs": [
        {
          "output_type": "stream",
          "name": "stdout",
          "text": [
            "digite sua matricula072420043\n",
            "digite seu nomeGrazielle Pereira de Santana \n",
            "alô, Grazielle Pereira de Santana ,072420043\n"
          ]
        }
      ]
    },
    {
      "cell_type": "markdown",
      "source": [
        "**Pseodocódigo 1**"
      ],
      "metadata": {
        "id": "HTm3YsoVo9Ds"
      }
    },
    {
      "cell_type": "code",
      "source": [
        "INICIO\n",
        "      SOLICITAR matrícula\n",
        "      SOLICITAR nome\n",
        "      ESCREVA \"alô, [nome],[matrícula]\"\n",
        "FIM"
      ],
      "metadata": {
        "id": "RVkklM8hoRO2"
      },
      "execution_count": null,
      "outputs": []
    },
    {
      "cell_type": "markdown",
      "source": [
        "**Código Python com comentários 2**"
      ],
      "metadata": {
        "id": "92FIsXQvSfDK"
      }
    },
    {
      "cell_type": "code",
      "source": [
        "matrG = 72420043 #Atribui um número de matrícula fixo à variável 'matrG'.\n",
        "nomeG = \"Grazielle\" #Atribui um nome fixo ('grazielle') à variável 'nomeG'.\n",
        "matrJ = 72420039 #Atribui um número de matrícula fixo à variável 'matrJ'.\n",
        "nomeJ = \"Jessica\" #Atribui um nome fixo ('jessica') à variável 'nomeJ'.\n",
        "print('alô, ' + nomeG + ',' + str(matrG)) #Exibe uma saudação na tela com o nome e a matrícula, convertendo a matrícula (um número) para string antes de concatenar com o nome.\n",
        "print('alô, ' + nomeJ + ',' + str(matrJ)) #Exibe uma saudação na tela com o nome e a matrícula, convertendo a matrícula (um número) para string antes de concatenar com o nome."
      ],
      "metadata": {
        "id": "hti83Zyaxx_7",
        "colab": {
          "base_uri": "https://localhost:8080/"
        },
        "outputId": "206558f4-a85b-4674-ab82-a803aec9f1db"
      },
      "execution_count": null,
      "outputs": [
        {
          "output_type": "stream",
          "name": "stdout",
          "text": [
            "alô, Grazielle,72420043\n",
            "alô, Jessica,72420039\n"
          ]
        }
      ]
    },
    {
      "cell_type": "markdown",
      "source": [
        "**Pseodocódigo 2**"
      ],
      "metadata": {
        "id": "uF7D-2Kjpvm-"
      }
    },
    {
      "cell_type": "code",
      "source": [
        "INICIO\n",
        "      matrG = 72420043\n",
        "      nomeG = Grazielle\n",
        "      matrJ = 72420039\n",
        "      nomeJ = Jessica\n",
        "      ESCREVA \"alô, [nomeG],[matrG]\"\n",
        "      ESCREVA \"alô, [nomeJ],[matrJ]\"\n",
        "FIM"
      ],
      "metadata": {
        "id": "LOZXE6VupU4O"
      },
      "execution_count": null,
      "outputs": []
    },
    {
      "cell_type": "markdown",
      "source": [
        "###**Parte - C**"
      ],
      "metadata": {
        "id": "HveKrQKsR1yQ"
      }
    },
    {
      "cell_type": "markdown",
      "source": [
        "**Código Python com comentários**"
      ],
      "metadata": {
        "id": "BrhezKMPSmph"
      }
    },
    {
      "cell_type": "code",
      "source": [
        "Alt = float(input(\"digite sua altura: \")) # Solicita ao usuário que digite sua altura e converte o valor para float\n",
        "sexo = str(input(\"digite seu sexo (masculino/feminino): \")) # Solicita ao usuário que digite seu sexo (masculino ou feminino) e armazena como string\n",
        "if sexo == \"masculino\" or sexo == \"m\": # Verifica se o sexo informado é masculino (pode ser \"masculino\" ou \"m\")\n",
        "    peso_idealM = (72.7 * Alt) - 58 # Calcula o peso ideal para homens com base na fórmula específica\n",
        "    print(\"seu peso ideal é: \" + str(peso_idealM))  # Exibe o peso ideal calculado\n",
        "elif sexo == \"feminino\" or sexo == \"f\":  # Verifica se o sexo informado é masculino (pode ser \"feminino\" ou \"f\")\n",
        "    peso_idealF = (62.1 * Alt) - 44.7 # Calcula o peso ideal para mulheres com base na fórmula específica\n",
        "    print(\"seu peso ideal é: \" + str(peso_idealF)) # Exibe o peso ideal calculado"
      ],
      "metadata": {
        "id": "TwTKLpT1U70T",
        "colab": {
          "base_uri": "https://localhost:8080/"
        },
        "outputId": "c46d79af-cbd3-473a-dd21-ec2515d83d29"
      },
      "execution_count": null,
      "outputs": [
        {
          "output_type": "stream",
          "name": "stdout",
          "text": [
            "digite sua altura: 1.60\n",
            "digite seu sexo (masculino/feminino): f\n",
            "seu peso ideal é: 54.66000000000001\n"
          ]
        }
      ]
    },
    {
      "cell_type": "markdown",
      "source": [
        "**Pseodocódigo**"
      ],
      "metadata": {
        "id": "JJsUrZD7qFgt"
      }
    },
    {
      "cell_type": "code",
      "source": [
        "INICIO\n",
        "      SOLICITAR altura\n",
        "      SOLICITAR sexo\n",
        "\n",
        "      SE sexo = masculino OU sexo = m ENTÃO\n",
        "            peso_idealM = (72.7 * altura) - 58\n",
        "            ESCREVA \"seu peso ideal é: [peso_idealM]\"\n",
        "      SE sexo = feminino OU sexo = f ENTÃO\n",
        "            peso_idealF = (62.1 × altura) - 44.7\n",
        "            ESCREVA \"seu peso ideal é: [peso_idealF]\"\n",
        "FIM"
      ],
      "metadata": {
        "id": "wyBc06iFqMj9"
      },
      "execution_count": null,
      "outputs": []
    },
    {
      "cell_type": "markdown",
      "source": [
        "###**Parte - D**"
      ],
      "metadata": {
        "id": "u-3u4Z-WR8aA"
      }
    },
    {
      "cell_type": "markdown",
      "source": [
        "**Código Python com comentários**"
      ],
      "metadata": {
        "id": "cfBjGO6ESplI"
      }
    },
    {
      "cell_type": "code",
      "source": [
        "def main(): # Função principal que executa o jogo\n",
        "    matr = input(\"Digite sua matrícula: \") # Solicita ao usuário que digite sua matrícula completa\n",
        "    if not matr.isdigit(): # Verifica se a matrícula contém apenas números\n",
        "        print(\"Matrícula inválida! Deve conter apenas números.\") # Encerra o programa caso a matrícula seja inválida\n",
        "        return\n",
        "    digito_final = int(matr[-1])  # Pega o último dígito\n",
        "    jogador = escolha_por_digito_final(digito_final) # Determina a escolha do jogador\n",
        "    opcoes = [\"pedra\", \"papel\", \"tesoura\"]\n",
        "    computador = random.choice(opcoes) # Escolha aleatória do computador\n",
        "    # Exibe as escolhas e o resultado\n",
        "    print(f\"\\nVocê escolheu: {jogador}\")\n",
        "    print(f\"Computador escolheu: {computador}\")\n",
        "    print(resultado(jogador, computador)) # Mostra o resultado final\n",
        "def escolha_por_digito_final(digito_final): # Função que define a escolha do jogador com base no último dígito da matrícula\n",
        "    if digito_final in [0, 3, 6, 9]: # Se o dígito for 0, 3, 6 ou 9 será pedra\n",
        "        return \"pedra\"\n",
        "    elif digito_final in [1, 4, 7]: # Se o dígito for 1, 4 ou 7 será papel\n",
        "        return \"papel\"\n",
        "    elif digito_final in [2, 5, 8]:# Se o dígito for 2, 5 ou 8 será tesoura\n",
        "        return \"tesoura\"\n",
        "def resultado(jogador, computador): # Função que determina o resultado com base nas escolhas do jogador e do computador\n",
        "    if jogador == computador:\n",
        "        return \"Empate!\" # Se ambos escolherem a mesma coisa\n",
        "    elif (jogador == \"pedra\" and computador == \"tesoura\") or \\\n",
        "         (jogador == \"papel\" and computador == \"pedra\") or \\\n",
        "         (jogador == \"tesoura\" and computador == \"papel\"):\n",
        "        return \"Você venceu!\" # Condições em que o jogador vence\n",
        "    else:\n",
        "        return \"Computador venceu!\" # Caso contrário, o computador vence\n",
        "if __name__ == \"__main__\": # Ponto de entrada do programa\n",
        "    main()"
      ],
      "metadata": {
        "colab": {
          "base_uri": "https://localhost:8080/"
        },
        "id": "BxTM4LAGK6Lm",
        "outputId": "64d39db1-7041-43d6-fbe3-8a81bc21c50e"
      },
      "execution_count": null,
      "outputs": [
        {
          "output_type": "stream",
          "name": "stdout",
          "text": [
            "Digite sua matrícula: 072420043\n",
            "\n",
            "Você escolheu: pedra\n",
            "Computador escolheu: tesoura\n",
            "Você venceu!\n"
          ]
        }
      ]
    },
    {
      "cell_type": "markdown",
      "source": [
        "**Pseodocódigo**"
      ],
      "metadata": {
        "id": "QIJxZTjGreVt"
      }
    },
    {
      "cell_type": "code",
      "source": [
        "INÍCIO\n",
        "    LEIA matrícula\n",
        "\n",
        "    SENÂO for numérica ENTÃO\n",
        "        ESCREVA \"Matrícula inválida! Deve conter apenas números.\"\n",
        "    FIM_SENÃO\n",
        "\n",
        "        RETORNE\n",
        "\n",
        "    digito_final = último caractere da matrícula\n",
        "    jogador = escolha_por_digito(digito_final)\n",
        "\n",
        "    computador + escolha aleatória entre [\"pedra\", \"papel\", \"tesoura\"]\n",
        "\n",
        "    ESCREVA \"Você escolheu: \", jogador\n",
        "    ESCREVA \"Computador escolheu: \", computador\n",
        "    VERIFICAR_RESULTADO(jogador, computador)\n",
        "    ESCREVA resultado\n",
        "FIM\n",
        "\n",
        "INICIO FUNÇÃO\n",
        "FUNÇÃO ESCOLHA_JOGADA(digito)\n",
        "\n",
        "    SE digito = [0, 3, 6, 9] ENTÃO\n",
        "        ESCOLHE \"pedra\"\n",
        "\n",
        "        SENÃO SE digito = [1, 4, 7] ENTÃO\n",
        "             ESCOLHE \"papel\"\n",
        "\n",
        "             SENÃO SE digito = [2, 5, 8] ENTÃO\n",
        "                  ESCOLHE \"tesoura\"\n",
        "\n",
        "FIM_FUNÇÃO\n",
        "\n",
        "INICIO VERIFICAR_RESULTADO(jogador, computador)\n",
        "\n",
        "    SE jogador = computador ENTÃO\n",
        "        RETORNE \"Empate!\"\n",
        "\n",
        "    SENÃO SE (jogador = \"pedra\" E computador = \"tesoura\") OU\n",
        "             (jogador = \"papel\" E computador = \"pedra\") OU\n",
        "             (jogador = \"tesoura\" E computador = \"papel\") ENTÃO\n",
        "        ESCREVE \"Você venceu!\"\n",
        "    SENÃO\n",
        "        ESCREVE \"Computador venceu!\"\n",
        "FIM VERIFICAR_RESULTADO(jogador, computador)"
      ],
      "metadata": {
        "id": "GlDe833Hrl2W"
      },
      "execution_count": null,
      "outputs": []
    }
  ],
  "metadata": {
    "colab": {
      "provenance": [],
      "include_colab_link": true
    },
    "kernelspec": {
      "display_name": "Python 3",
      "name": "python3"
    }
  },
  "nbformat": 4,
  "nbformat_minor": 0
}