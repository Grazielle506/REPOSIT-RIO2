{
  "cells": [
    {
      "cell_type": "markdown",
      "metadata": {
        "id": "view-in-github",
        "colab_type": "text"
      },
      "source": [
        "<a href=\"https://colab.research.google.com/github/Grazielle506/REPOSIT-RIO2/blob/main/c_pia_de_conhe_a_o_colab.ipynb\" target=\"_parent\"><img src=\"https://colab.research.google.com/assets/colab-badge.svg\" alt=\"Open In Colab\"/></a>"
      ]
    },
    {
      "cell_type": "code",
      "source": [
        "print('alô, mundo!') # Exibe a mensagem \"alô, mundo!\" na tela, uma frase tradicional em programação para iniciar o aprendizado."
      ],
      "metadata": {
        "id": "R-sZk_PpwjTV",
        "outputId": "2e44c620-c22d-4cf3-87d6-5b01ea633bdc",
        "colab": {
          "base_uri": "https://localhost:8080/"
        }
      },
      "execution_count": null,
      "outputs": [
        {
          "output_type": "stream",
          "name": "stdout",
          "text": [
            "alô, mundo!\n"
          ]
        }
      ]
    },
    {
      "cell_type": "code",
      "source": [
        "matr = input('digite sua matricula') #Solicita ao usuário que digite sua matrícula e armazena o valor na variável 'matr'.\n",
        "nome = input('digite seu nome') #Solicita ao usuário que digite seu nome e armazena o valor na variável 'nome'.\n",
        "print('alô, ' + name + ',' + matr) #Exibe uma mensagem de saudação com o nome e a matrícula do usuário.\n",
        "#OBS: O código possui um erro: a variável 'name' deveria ser 'nome', pois o nome correto da variável é 'nome'."
      ],
      "metadata": {
        "id": "ja51tA7RwzGG",
        "outputId": "ba1ade90-65d9-45f1-f595-a182e8babf4a",
        "colab": {
          "base_uri": "https://localhost:8080/"
        }
      },
      "execution_count": null,
      "outputs": [
        {
          "output_type": "stream",
          "name": "stdout",
          "text": [
            "digite sua matricula072420043\n",
            "digite seu nome\n",
            "alô, Grazielle,072420043\n"
          ]
        }
      ]
    },
    {
      "cell_type": "code",
      "source": [
        "matrG = 72420043 #Atribui um número de matrícula fixo à variável 'matrG'.\n",
        "nomeG = 'grazielle' #Atribui um nome fixo ('grazielle') à variável 'nomeG'.\n",
        "print('alô, ' + nameG + ',' + str(matrG)) #Exibe uma saudação na tela com o nome e a matrícula, convertendo a matrícula (um número) para string antes de concatenar com o nome."
      ],
      "metadata": {
        "id": "hti83Zyaxx_7",
        "outputId": "0d498939-194a-4df9-971b-615099125ca7",
        "colab": {
          "base_uri": "https://localhost:8080/"
        }
      },
      "execution_count": null,
      "outputs": [
        {
          "output_type": "stream",
          "name": "stdout",
          "text": [
            "alô, Grazielle Pereira de Santana,72420043\n"
          ]
        }
      ]
    },
    {
      "cell_type": "code",
      "source": [
        "alt = float(input('digite sua altura')) #Solicita ao usuário que digite sua altura e converte o valor para um número decimal (float), armazenando na variável 'alt'.\n",
        "sexo = str(input('digite se sexo (masculino/feminino)')) #Solicita ao usuário que digite seu sexo (masculino ou feminino) e armazena o valor na variável 'sexo'.\n",
        "if sexo == 'masculino' or sexo == 'm':\n",
        "  peso_ideal = (72.7 * alt) - 58\n",
        "  print('seu peso ideal é ' + str(peso_ideal)) #Se o sexo for 'masculino' ou 'm', calcula o peso ideal utilizando a fórmula para homens e exibe o resultado.\n",
        "elif sexo == 'feminino' or sexo == 'f':\n",
        "  peso_ideal = (62.1 * alt) - 44.7\n",
        "  print('seu peso ideal é ' + str(peso_ideal)) #Se o sexo for 'feminino' ou 'f', calcula o peso ideal utilizando a fórmula para mulheres e exibe o resultado.\n",
        "  # O peso ideal é calculado com base nas fórmulas padrão para cada sexo, levando em consideração a altura do usuário."
      ],
      "metadata": {
        "id": "a8BJD2inyWKi",
        "outputId": "b2be7276-20da-4e72-d029-4936149146e0",
        "colab": {
          "base_uri": "https://localhost:8080/"
        }
      },
      "execution_count": null,
      "outputs": [
        {
          "output_type": "stream",
          "name": "stdout",
          "text": [
            "digite sua altura1.68\n",
            "digite se sexo (masculino/feminino)m\n",
            "seu peso ideal é 64.136\n"
          ]
        }
      ]
    }
  ],
  "metadata": {
    "colab": {
      "provenance": [],
      "include_colab_link": true
    },
    "kernelspec": {
      "display_name": "Python 3",
      "name": "python3"
    }
  },
  "nbformat": 4,
  "nbformat_minor": 0
}