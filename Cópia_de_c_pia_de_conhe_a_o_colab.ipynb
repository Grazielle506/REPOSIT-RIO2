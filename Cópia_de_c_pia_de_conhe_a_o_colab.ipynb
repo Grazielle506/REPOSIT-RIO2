{
  "cells": [
    {
      "cell_type": "markdown",
      "metadata": {
        "id": "view-in-github",
        "colab_type": "text"
      },
      "source": [
        "<a href=\"https://colab.research.google.com/github/Grazielle506/REPOSIT-RIO2/blob/main/C%C3%B3pia_de_c_pia_de_conhe_a_o_colab.ipynb\" target=\"_parent\"><img src=\"https://colab.research.google.com/assets/colab-badge.svg\" alt=\"Open In Colab\"/></a>"
      ]
    },
    {
      "cell_type": "code",
      "source": [
        "print('alô, mundo!') # Exibe a mensagem \"alô, mundo!\" na tela, uma frase tradicional em programação para iniciar o aprendizado."
      ],
      "metadata": {
        "id": "R-sZk_PpwjTV",
        "outputId": "2e44c620-c22d-4cf3-87d6-5b01ea633bdc",
        "colab": {
          "base_uri": "https://localhost:8080/"
        }
      },
      "execution_count": null,
      "outputs": [
        {
          "output_type": "stream",
          "name": "stdout",
          "text": [
            "alô, mundo!\n"
          ]
        }
      ]
    },
    {
      "cell_type": "code",
      "source": [
        "matr = input('digite sua matricula') #Solicita ao usuário que digite sua matrícula e armazena o valor na variável 'matr'.\n",
        "nome = input('digite seu nome') #Solicita ao usuário que digite seu nome e armazena o valor na variável 'nome'.\n",
        "print('alô, ' + nome + ',' + matr) #Exibe uma mensagem de saudação com o nome e a matrícula do usuário.\n",
        "#OBS: O código possui um erro: a variável 'name' deveria ser 'nome', pois o nome correto da variável é 'nome'."
      ],
      "metadata": {
        "id": "ja51tA7RwzGG"
      },
      "execution_count": null,
      "outputs": []
    },
    {
      "cell_type": "code",
      "source": [
        "matrG = 72420043 #Atribui um número de matrícula fixo à variável 'matrG'.\n",
        "nomeG = \"Grazielle\" #Atribui um nome fixo ('grazielle') à variável 'nomeG'.\n",
        "matrJ = 72420039 #Atribui um número de matrícula fixo à variável 'matrJ'.\n",
        "nomeJ = \"Jessica\" #Atribui um nome fixo ('jessica') à variável 'nomeJ'.\n",
        "print('alô, ' + nomeG + ',' + str(matrG)) #Exibe uma saudação na tela com o nome e a matrícula, convertendo a matrícula (um número) para string antes de concatenar com o nome.\n",
        "print('alô, ' + nomeJ + ',' + str(matrJ)) #Exibe uma saudação na tela com o nome e a matrícula, convertendo a matrícula (um número) para string antes de concatenar com o nome."
      ],
      "metadata": {
        "id": "hti83Zyaxx_7"
      },
      "execution_count": null,
      "outputs": []
    },
    {
      "cell_type": "code",
      "source": [
        "alt = float(input('digite sua altura')) #Solicita ao usuário que digite sua altura e converte o valor para um número decimal (float), armazenando na variável 'alt'.\n",
        "sexo = str(input('digite se sexo (masculino/feminino)')) #Solicita ao usuário que digite seu sexo (masculino ou feminino) e armazena o valor na variável 'sexo'.\n",
        "if sexo == 'masculino' or sexo == 'm':\n",
        "  peso_ideal = (72.7 * alt) - 58\n",
        "  print('seu peso ideal é ' + str(peso_ideal)) #Se o sexo for 'masculino' ou 'm', calcula o peso ideal utilizando a fórmula para homens e exibe o resultado.\n",
        "elif sexo == 'feminino' or sexo == 'f':\n",
        "  peso_ideal = (62.1 * alt) - 44.7\n",
        "  print('seu peso ideal é ' + str(peso_ideal)) #Se o sexo for 'feminino' ou 'f', calcula o peso ideal utilizando a fórmula para mulheres e exibe o resultado.\n",
        "  # O peso ideal é calculado com base nas fórmulas padrão para cada sexo, levando em consideração a altura do usuário."
      ],
      "metadata": {
        "id": "a8BJD2inyWKi",
        "outputId": "c7d1c842-7385-464d-9094-ca0f4d2549ee",
        "colab": {
          "base_uri": "https://localhost:8080/"
        }
      },
      "execution_count": 13,
      "outputs": [
        {
          "output_type": "stream",
          "name": "stdout",
          "text": [
            "digite sua altura1.60\n",
            "digite se sexo (masculino/feminino)f\n",
            "seu peso ideal é 54.66000000000001\n"
          ]
        }
      ]
    },
    {
      "cell_type": "code",
      "source": [
        "def jogar():\n",
        "    matricula = input(\"Digite o número da sua matrícula: \")\n",
        "    if not matricula.isdigit():\n",
        "        print(\"A matrícula deve conter apenas números.\")\n",
        "        return\n",
        "    ultimo_digito = int(matricula[-1])\n",
        "    escolha_jogador = ultimo_digito % 3\n",
        "    escolhas = [\"Pedra\", \"Papel\", \"Tesoura\"]\n",
        "    print(f\"\\nVocê escolheu: {escolhas[escolha_jogador]}\")\n",
        "    escolha_computador = random.randint(0, 2)\n",
        "    print(f\"O computador escolheu: {escolhas[escolha_computador]}\")\n",
        "    if escolha_jogador == escolha_computador:\n",
        "        print(\"Empate!\")\n",
        "    elif (escolha_jogador == 0 and escolha_computador == 2) or (escolha_jogador == 1 and escolha_computador == 0) or (escolha_jogador == 2 and escolha_computador == 1):\n",
        "        print(\"Você ganhou!\")\n",
        "    else:\n",
        "        print(\"O computador ganhou!\")"
      ],
      "metadata": {
        "id": "WIrkZ3pyOKsX"
      },
      "execution_count": null,
      "outputs": []
    }
  ],
  "metadata": {
    "colab": {
      "provenance": [],
      "include_colab_link": true
    },
    "kernelspec": {
      "display_name": "Python 3",
      "name": "python3"
    }
  },
  "nbformat": 4,
  "nbformat_minor": 0
}